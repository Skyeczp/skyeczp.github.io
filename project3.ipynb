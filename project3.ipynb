{
 "cells": [
  {
   "cell_type": "code",
   "execution_count": null,
   "id": "6a196788",
   "metadata": {},
   "outputs": [],
   "source": [
    "import pandas as pd\n",
    "import numpy as np\n",
    "from scipy import stats\n",
    "from Bio.SeqIO.QualityIO import FastqGeneralIterator\n",
    "import hvplot.pandas\n",
    "import panel as pn"
   ]
  },
  {
   "cell_type": "code",
   "execution_count": null,
   "id": "7fa9a135",
   "metadata": {},
   "outputs": [],
   "source": [
    "###读取barcode序列\n",
    "def load_file(file_path):\n",
    "    sequence=[]\n",
    "    for title, seq, qual in FastqGeneralIterator(file_path):\n",
    "        sequence.append(seq)\n",
    "    return sequence\n",
    "\n",
    "t0_filepath='F:/南科大/python/week14/t0.fq'\n",
    "t3_filepath='F:/南科大/python/week14/t3.fq'\n",
    "\n",
    "t0_seq=load_file(t0_filepath)\n",
    "t3_seq=load_file(t3_filepath)"
   ]
  },
  {
   "cell_type": "code",
   "execution_count": null,
   "id": "eeb90906",
   "metadata": {},
   "outputs": [],
   "source": [
    "###读取barcode参考文件和codon文件\n",
    "barcode_ref=pd.read_csv('F:/南科大/python/week14/barcode_reference.csv')\n",
    "codon_table=pd.read_csv('F:/南科大/python/week14/codon_table.csv',header=None)\n",
    "barcode_ref.columns=['barcode','position','original','mutant']\n",
    "codon_table.columns=['codon','single','triple']"
   ]
  },
  {
   "cell_type": "code",
   "execution_count": null,
   "id": "af3046f1",
   "metadata": {},
   "outputs": [],
   "source": [
    "###整理数据\n",
    "\n",
    "def data_reorganization(seq1,seq2):\n",
    "    ###对barcode计数\n",
    "    t0_counts = pd.value_counts(seq1)\n",
    "    t3_counts = pd.value_counts(seq2)\n",
    "    t0_counts = pd.DataFrame(t0_counts, columns=['t0_counts'])\n",
    "    t3_counts = pd.DataFrame(t3_counts, columns=['t3_counts'])\n",
    "    ###合并信息\n",
    "    mutation_info = pd.merge(barcode_ref, t0_counts, left_on='barcode', right_index=True)\n",
    "    mutation_info = pd.merge(mutation_info, t3_counts, left_on='barcode', right_index=True)\n",
    "    ###计算频率与log2FC\n",
    "    mutation_info['t0_frequency'] = mutation_info['t0_counts'] / mutation_info['t0_counts'].sum()\n",
    "    mutation_info['t3_frequency'] = mutation_info['t3_counts'] / mutation_info['t3_counts'].sum()\n",
    "    mutation_info['log2FC'] = np.log2(mutation_info['t3_frequency'] / mutation_info['t0_frequency'])\n",
    "    ###重新编号\n",
    "    mutation_info.index=range(len(mutation_info))\n",
    "    ###筛选wt\n",
    "    wt_index = mutation_info[mutation_info['position'] == 'wt'].index\n",
    "    wt_info = mutation_info[mutation_info['original'] == 'wt']\n",
    "    ###计算wt中位数\n",
    "    median_wt_score=wt_info['log2FC'].median()\n",
    "    ###去除wt数据，并重新编号\n",
    "    mutation_info = mutation_info.drop(mutation_info.index[wt_index])\n",
    "    mutation_info.index=range(len(mutation_info))\n",
    "    ###添加原始氨基酸和突变氨基酸的注释\n",
    "    mutation_info=pd.merge(mutation_info,codon_table,left_on = 'original',right_on ='codon',how='inner')\n",
    "    mutation_info.rename(columns={'single':'original_single','triple':'original_triple'},inplace=True)\n",
    "    mutation_info.drop(columns=['codon'],inplace=True)\n",
    "    mutation_info=pd.merge(mutation_info,codon_table,left_on = 'mutant',right_on ='codon',how='inner')\n",
    "    mutation_info.rename(columns={'single':'mutant_single','triple':'mutant_triple'},inplace=True)  \n",
    "    mutation_info.drop(columns=['codon'],inplace=True)\n",
    "    ###创建一列包含位置，以及突变情况的信息\n",
    "    mutation_info['change']=mutation_info['position']+'-'+mutation_info['original_single']+'-'+mutation_info['mutant_single']\n",
    "    mutation_info['enrichment_score']=mutation_info['log2FC']-median_wt_score\n",
    "    return mutation_info,wt_info\n"
   ]
  },
  {
   "cell_type": "code",
   "execution_count": null,
   "id": "2c3b3dfc",
   "metadata": {},
   "outputs": [],
   "source": [
    "mutation_info=data_reorganization(t0_seq,t3_seq)[0]\n",
    "wt_info=data_reorganization(t0_seq,t3_seq)[1]"
   ]
  },
  {
   "cell_type": "code",
   "execution_count": null,
   "id": "3cfb7321",
   "metadata": {},
   "outputs": [],
   "source": [
    "###聚类计算\n",
    "def Clustering(mutant,wt):\n",
    "    ###分组\n",
    "    cluster = mutant.groupby(\"change\").agg({'enrichment_score': 'mean'})\n",
    "    cluster.rename(columns={'enrichment_score':'average_enrichscore'},inplace=True)\n",
    "    p_value=[]\n",
    "    for change in cluster.index:\n",
    "        mutant_group=mutant[mutant['change']==change]['log2FC']\n",
    "        wt_group=wt['log2FC']\n",
    "        ###检验方差齐性\n",
    "        if stats.levene(mutant_group,wt_group)[1]>0.05:\n",
    "            t_test=stats.ttest_ind(mutant_group,wt_group,equal_var=True)\n",
    "        else:\n",
    "            t_test=stats.ttest_ind(mutant_group,wt_group,equal_var=False)\n",
    "        p_value.append(t_test[1])\n",
    "    cluster['p_value']=p_value\n",
    "    ###绘制火山图的数据准备\n",
    "    cluster['-log10(pvalue)']=-np.log10(cluster['p_value'])\n",
    "    cluster['sig'] = 'normal'\n",
    "    cluster.loc[(cluster.average_enrichscore> 1 )&(cluster.p_value < 0.05),'sig'] = 'up'\n",
    "    cluster.loc[(cluster.average_enrichscore< -1 )&(cluster.p_value < 0.05),'sig'] = 'down'\n",
    "    info=pd.merge(mutant,cluster,left_on = 'change',right_index=True)\n",
    "    info['position']=pd.to_numeric(info['position'])\n",
    "    info=info.sort_values('position',ascending=True)\n",
    "    return info,cluster"
   ]
  },
  {
   "cell_type": "code",
   "execution_count": null,
   "id": "4097e8b8",
   "metadata": {},
   "outputs": [],
   "source": [
    "new_info=Clustering(mutation_info,wt_info)[0]\n",
    "cluster=Clustering(mutation_info,wt_info)[1]"
   ]
  },
  {
   "cell_type": "code",
   "execution_count": null,
   "id": "c557f7a2",
   "metadata": {},
   "outputs": [],
   "source": [
    "###作图\n",
    "def visualize(data,group_info):\n",
    "    position_selection=data['position'].unique().tolist()\n",
    "    pos=pn.widgets.Select(name='Position', options=position_selection,value=1)\n",
    "    @pn.depends(pos,watch=True)\n",
    "    def draw__plot(pos):###每个位置突变的情况，包含count数以及average_enrichmentscore\n",
    "        mutant_count=data[data['position']==pos]['mutant_single'].value_counts()\n",
    "        score_df=data[data['position']==pos][['mutant_single','average_enrichscore']]\n",
    "        count_score=pd.merge(mutant_count,score_df,left_index=True,right_on='mutant_single')\n",
    "        count_score.rename(columns={'mutant_single_x':'count'},inplace=True)\n",
    "        count_score.drop('mutant_single_y',axis=1,inplace=True)\n",
    "        ###以突变为横坐标，count值为纵坐标，颜色深浅代表average_enrichmentscore分数\n",
    "        count_score_plot=count_score.hvplot.bar(x='mutant_single', y='count',c='average_enrichscore',title='The counts and average_enrichscore of each mutant',colorbar=True,cmap='bwr')\n",
    "        return count_score_plot\n",
    "    \n",
    "    @pn.depends(pos)\n",
    "    def make_table(pos):###展示每个位置的突变的数据框\n",
    "        data_select=data[data['position']==pos]\n",
    "        table = data_select.hvplot.table(title='Data table')\n",
    "        return table\n",
    "    heatmap=data.hvplot.heatmap(x='position', y='mutant_single', C='average_enrichscore', colorbar=True,cmap='bwr')###绘制全局的热图\n",
    "    volcano= group_info.hvplot.scatter(x=\"average_enrichscore\", y=\"-log10(pvalue)\", by='sig',use_index=True,hover_cols='all')###绘制全局的火山图\n",
    "    figure=pn.Column(pos,draw__plot,make_table,heatmap,volcano)\n",
    "    return figure"
   ]
  },
  {
   "cell_type": "code",
   "execution_count": null,
   "id": "519f0a4b",
   "metadata": {},
   "outputs": [],
   "source": [
    "visualize(new_info,cluster)"
   ]
  },
  {
   "cell_type": "code",
   "execution_count": null,
   "id": "8e1171b8",
   "metadata": {},
   "outputs": [],
   "source": []
  }
 ],
 "metadata": {
  "kernelspec": {
   "display_name": "Python 3 (ipykernel)",
   "language": "python",
   "name": "python3"
  },
  "language_info": {
   "codemirror_mode": {
    "name": "ipython",
    "version": 3
   },
   "file_extension": ".py",
   "mimetype": "text/x-python",
   "name": "python",
   "nbconvert_exporter": "python",
   "pygments_lexer": "ipython3",
   "version": "3.9.7"
  }
 },
 "nbformat": 4,
 "nbformat_minor": 5
}
